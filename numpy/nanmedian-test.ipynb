{
 "cells": [
  {
   "cell_type": "code",
   "execution_count": 1,
   "metadata": {},
   "outputs": [],
   "source": [
    "import numpy as np"
   ]
  },
  {
   "cell_type": "code",
   "execution_count": 2,
   "metadata": {},
   "outputs": [],
   "source": [
    "scores = [[ 316,  747, 4186,  220],\n",
    " [ 765,  930, None, None],\n",
    " [ 248,  171,   81,   92],\n",
    " [ 135,  132,   48,   88]]"
   ]
  },
  {
   "cell_type": "code",
   "execution_count": 3,
   "metadata": {
    "tags": [
     "across-all-scores"
    ]
   },
   "outputs": [],
   "source": [
    "times_matrix = np.full((4, 4), np.nan, dtype=np.float64)"
   ]
  },
  {
   "cell_type": "code",
   "execution_count": 4,
   "metadata": {
    "tags": [
     "across-all-scores"
    ]
   },
   "outputs": [
    {
     "data": {
      "text/plain": [
       "array([[nan, nan, nan, nan],\n",
       "       [nan, nan, nan, nan],\n",
       "       [nan, nan, nan, nan],\n",
       "       [nan, nan, nan, nan]])"
      ]
     },
     "execution_count": 4,
     "metadata": {},
     "output_type": "execute_result"
    }
   ],
   "source": [
    "times_matrix  # Fill"
   ]
  },
  {
   "cell_type": "code",
   "execution_count": 5,
   "metadata": {
    "tags": [
     "across-all-scores"
    ]
   },
   "outputs": [],
   "source": [
    "#\n",
    "# Vanilla subgroups\n",
    "#\n",
    "for i,  student_times in enumerate(scores):\n",
    "    times_matrix[i, 0: len(student_times)] = student_times"
   ]
  },
  {
   "cell_type": "code",
   "execution_count": 6,
   "metadata": {
    "tags": [
     "across-all-scores"
    ]
   },
   "outputs": [
    {
     "data": {
      "text/plain": [
       "array([[ 316.,  747., 4186.,  220.],\n",
       "       [ 765.,  930.,   nan,   nan],\n",
       "       [ 248.,  171.,   81.,   92.],\n",
       "       [ 135.,  132.,   48.,   88.]])"
      ]
     },
     "execution_count": 6,
     "metadata": {},
     "output_type": "execute_result"
    }
   ],
   "source": [
    "times_matrix"
   ]
  },
  {
   "cell_type": "code",
   "execution_count": 7,
   "metadata": {
    "tags": [
     "across-all-scores"
    ]
   },
   "outputs": [
    {
     "data": {
      "text/plain": [
       "195.5"
      ]
     },
     "execution_count": 7,
     "metadata": {},
     "output_type": "execute_result"
    }
   ],
   "source": [
    "#\n",
    "# Median of subgroups\n",
    "# https://docs.scipy.org/doc/numpy/reference/generated/numpy.nanmedian.html\n",
    "# See:\n",
    "# > Axis or axes along which the medians are computed. The default is to compute\n",
    "# > the median along a flattened version of the array. A sequence of axes is\n",
    "# > supported since version 1.9.0.\n",
    "#\n",
    "np.nanmedian(times_matrix)"
   ]
  },
  {
   "cell_type": "code",
   "execution_count": 8,
   "metadata": {},
   "outputs": [
    {
     "name": "stderr",
     "output_type": "stream",
     "text": [
      "/home/x/.local/share/virtualenvs/notebooks-3j7HZMtb/lib/python3.7/site-packages/numpy/lib/function_base.py:3405: RuntimeWarning: All-NaN slice encountered\n",
      "  r = func(a, **kwargs)\n",
      "/home/x/.local/share/virtualenvs/notebooks-3j7HZMtb/lib/python3.7/site-packages/ipykernel_launcher.py:4: RuntimeWarning: Mean of empty slice\n",
      "  after removing the cwd from sys.path.\n"
     ]
    },
    {
     "data": {
      "text/plain": [
       "195.5"
      ]
     },
     "execution_count": 8,
     "metadata": {},
     "output_type": "execute_result"
    }
   ],
   "source": [
    "# see how iterator behavior of this behaves in numpy\n",
    "np.nanmedian([np.nanmedian(students_feedback_times) for students_feedback_times in np.nditer(times_matrix)])\n",
    "# 195.5\n",
    "np.nanmedian([np.nanmean(students_feedback_times) for students_feedback_times in np.nditer(times_matrix)])\n",
    "# 195.5"
   ]
  },
  {
   "cell_type": "code",
   "execution_count": 13,
   "metadata": {
    "tags": [
     "median-of-students"
    ]
   },
   "outputs": [
    {
     "data": {
      "text/plain": [
       "array([[531.5],\n",
       "       [847.5],\n",
       "       [131.5],\n",
       "       [110. ]])"
      ]
     },
     "execution_count": 13,
     "metadata": {},
     "output_type": "execute_result"
    }
   ],
   "source": [
    "#\n",
    "# Median of subgroups\n",
    "#\n",
    "median_matrix = np.full((4, 1), np.nan, dtype=np.float64)\n",
    "for i,  student_times in enumerate(scores):\n",
    "    median_matrix[i] = np.nanmedian(np.array(student_times, dtype=np.float64))\n",
    "\n",
    "median_matrix"
   ]
  },
  {
   "cell_type": "code",
   "execution_count": 10,
   "metadata": {
    "tags": [
     "median-of-students"
    ]
   },
   "outputs": [
    {
     "data": {
      "text/plain": [
       "331.5"
      ]
     },
     "execution_count": 10,
     "metadata": {},
     "output_type": "execute_result"
    }
   ],
   "source": [
    "#\n",
    "# Median of median of subgroups\n",
    "#\n",
    "np.nanmedian([np.nanmean(students_feedback_times) for students_feedback_times in np.nditer(median_matrix)])"
   ]
  },
  {
   "cell_type": "code",
   "execution_count": 11,
   "metadata": {
    "tags": [
     "average-of-students"
    ]
   },
   "outputs": [
    {
     "data": {
      "text/plain": [
       "array([[1367.25],\n",
       "       [ 847.5 ],\n",
       "       [ 148.  ],\n",
       "       [ 100.75]])"
      ]
     },
     "execution_count": 11,
     "metadata": {},
     "output_type": "execute_result"
    }
   ],
   "source": [
    "#\n",
    "# Average of subgroups\n",
    "#\n",
    "avg_matrix = np.full((4, 1), np.nan, dtype=np.float64)\n",
    "for i,  student_times in enumerate(scores):\n",
    "    avg_matrix[i] = np.nanmean(np.array(student_times, dtype=np.float64))\n",
    "\n",
    "avg_matrix"
   ]
  },
  {
   "cell_type": "code",
   "execution_count": 12,
   "metadata": {
    "tags": [
     "average-of-students"
    ]
   },
   "outputs": [
    {
     "data": {
      "text/plain": [
       "497.75"
      ]
     },
     "execution_count": 12,
     "metadata": {},
     "output_type": "execute_result"
    }
   ],
   "source": [
    "#\n",
    "# Median of average of subgroups\n",
    "#\n",
    "np.nanmedian([np.nanmean(students_feedback_times) for students_feedback_times in np.nditer(avg_matrix)])"
   ]
  }
 ],
 "metadata": {
  "celltoolbar": "Tags",
  "kernelspec": {
   "display_name": "Python 3",
   "language": "python",
   "name": "python3"
  },
  "language_info": {
   "codemirror_mode": {
    "name": "ipython",
    "version": 3
   },
   "file_extension": ".py",
   "mimetype": "text/x-python",
   "name": "python",
   "nbconvert_exporter": "python",
   "pygments_lexer": "ipython3",
   "version": "3.7.1"
  }
 },
 "nbformat": 4,
 "nbformat_minor": 2
}
